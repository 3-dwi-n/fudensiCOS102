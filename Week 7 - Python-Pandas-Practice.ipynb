{
 "cells": [
  {
   "cell_type": "markdown",
   "metadata": {},
   "source": [
    "# Python | Pandas DataFrame"
   ]
  },
  {
   "cell_type": "markdown",
   "metadata": {},
   "source": [
    "### What is Pandas?"
   ]
  },
  {
   "cell_type": "markdown",
   "metadata": {},
   "source": [
    "<b>pandas</b> is a software library written for the Python programming language for data manipulation and analysis. In particular, it offers data structures and operations for manipulating numerical tables and time series. "
   ]
  },
  {
   "cell_type": "markdown",
   "metadata": {},
   "source": [
    "### What is a Pandas DataFrame?"
   ]
  },
  {
   "cell_type": "markdown",
   "metadata": {},
   "source": [
    "<b>Pandas DataFrame</b> is two-dimensional size-mutable, potentially heterogeneous tabular data structure with labeled axes (rows and columns). \n",
    "\n",
    "A Data frame is a two-dimensional data structure, i.e., data is aligned in a tabular fashion in rows and columns. \n",
    "\n",
    "Pandas DataFrame consists of three principal components, the data, rows, and columns."
   ]
  },
  {
   "cell_type": "markdown",
   "metadata": {},
   "source": [
    "<img src=\"images/pandas.jpg\">"
   ]
  },
  {
   "cell_type": "markdown",
   "metadata": {},
   "source": [
    "A Pandas DataFrame will be created by loading the datasets from existing storage. Storage can be SQL Database, CSV file, and Excel file. \n",
    "Pandas DataFrame can be created from the lists, dictionary, and from a list of dictionary etc.\n",
    "\n",
    "Dataframe can be created in different ways here are some ways by which we create a dataframe:\n"
   ]
  },
  {
   "cell_type": "markdown",
   "metadata": {},
   "source": [
    "### Creating a dataframe using List:"
   ]
  },
  {
   "cell_type": "code",
   "execution_count": 8,
   "metadata": {},
   "outputs": [
    {
     "data": {
      "text/html": [
       "<div>\n",
       "<style scoped>\n",
       "    .dataframe tbody tr th:only-of-type {\n",
       "        vertical-align: middle;\n",
       "    }\n",
       "\n",
       "    .dataframe tbody tr th {\n",
       "        vertical-align: top;\n",
       "    }\n",
       "\n",
       "    .dataframe thead th {\n",
       "        text-align: right;\n",
       "    }\n",
       "</style>\n",
       "<table border=\"1\" class=\"dataframe\">\n",
       "  <thead>\n",
       "    <tr style=\"text-align: right;\">\n",
       "      <th></th>\n",
       "      <th>0</th>\n",
       "    </tr>\n",
       "  </thead>\n",
       "  <tbody>\n",
       "    <tr>\n",
       "      <th>0</th>\n",
       "      <td>CSC</td>\n",
       "    </tr>\n",
       "    <tr>\n",
       "      <th>1</th>\n",
       "      <td>102</td>\n",
       "    </tr>\n",
       "    <tr>\n",
       "      <th>2</th>\n",
       "      <td>is</td>\n",
       "    </tr>\n",
       "    <tr>\n",
       "      <th>3</th>\n",
       "      <td>the</td>\n",
       "    </tr>\n",
       "    <tr>\n",
       "      <th>4</th>\n",
       "      <td>best</td>\n",
       "    </tr>\n",
       "    <tr>\n",
       "      <th>5</th>\n",
       "      <td>course</td>\n",
       "    </tr>\n",
       "    <tr>\n",
       "      <th>6</th>\n",
       "      <td>ever</td>\n",
       "    </tr>\n",
       "  </tbody>\n",
       "</table>\n",
       "</div>"
      ],
      "text/plain": [
       "        0\n",
       "0     CSC\n",
       "1     102\n",
       "2      is\n",
       "3     the\n",
       "4    best\n",
       "5  course\n",
       "6    ever"
      ]
     },
     "execution_count": 8,
     "metadata": {},
     "output_type": "execute_result"
    }
   ],
   "source": [
    "# import pandas as pd\n",
    "import pandas as pd\n",
    " \n",
    "# list of strings\n",
    "lyst = ['CSC', '102', 'is', 'the', 'best', 'course', 'ever']\n",
    " \n",
    "# Calling DataFrame constructor on list\n",
    "df = pd.DataFrame(lyst)\n",
    "\n",
    "# Print the output.\n",
    "df"
   ]
  },
  {
   "cell_type": "markdown",
   "metadata": {},
   "source": [
    "### Creating a dataframe using dict of narray/lists:"
   ]
  },
  {
   "cell_type": "code",
   "execution_count": 54,
   "metadata": {},
   "outputs": [
    {
     "data": {
      "text/html": [
       "<div>\n",
       "<style scoped>\n",
       "    .dataframe tbody tr th:only-of-type {\n",
       "        vertical-align: middle;\n",
       "    }\n",
       "\n",
       "    .dataframe tbody tr th {\n",
       "        vertical-align: top;\n",
       "    }\n",
       "\n",
       "    .dataframe thead th {\n",
       "        text-align: right;\n",
       "    }\n",
       "</style>\n",
       "<table border=\"1\" class=\"dataframe\">\n",
       "  <thead>\n",
       "    <tr style=\"text-align: right;\">\n",
       "      <th></th>\n",
       "      <th>Name</th>\n",
       "      <th>Age</th>\n",
       "    </tr>\n",
       "  </thead>\n",
       "  <tbody>\n",
       "    <tr>\n",
       "      <th>0</th>\n",
       "      <td>Angela</td>\n",
       "      <td>20</td>\n",
       "    </tr>\n",
       "    <tr>\n",
       "      <th>1</th>\n",
       "      <td>Precious</td>\n",
       "      <td>21</td>\n",
       "    </tr>\n",
       "    <tr>\n",
       "      <th>2</th>\n",
       "      <td>Luis</td>\n",
       "      <td>19</td>\n",
       "    </tr>\n",
       "    <tr>\n",
       "      <th>3</th>\n",
       "      <td>Ade</td>\n",
       "      <td>18</td>\n",
       "    </tr>\n",
       "  </tbody>\n",
       "</table>\n",
       "</div>"
      ],
      "text/plain": [
       "       Name  Age\n",
       "0    Angela   20\n",
       "1  Precious   21\n",
       "2      Luis   19\n",
       "3       Ade   18"
      ]
     },
     "execution_count": 54,
     "metadata": {},
     "output_type": "execute_result"
    }
   ],
   "source": [
    "import pandas as pd\n",
    " \n",
    "# intialise data of lists.\n",
    "data = {'Name':['Angela', 'Precious', 'Luis', 'Ade'],\n",
    "        'Age':[20, 21, 19, 18]}\n",
    " \n",
    "# Create DataFrame\n",
    "df = pd.DataFrame(data)\n",
    " \n",
    "# Print the output.\n",
    "df"
   ]
  },
  {
   "cell_type": "markdown",
   "metadata": {},
   "source": [
    "### Column Selection:"
   ]
  },
  {
   "cell_type": "code",
   "execution_count": 16,
   "metadata": {},
   "outputs": [
    {
     "data": {
      "text/html": [
       "<div>\n",
       "<style scoped>\n",
       "    .dataframe tbody tr th:only-of-type {\n",
       "        vertical-align: middle;\n",
       "    }\n",
       "\n",
       "    .dataframe tbody tr th {\n",
       "        vertical-align: top;\n",
       "    }\n",
       "\n",
       "    .dataframe thead th {\n",
       "        text-align: right;\n",
       "    }\n",
       "</style>\n",
       "<table border=\"1\" class=\"dataframe\">\n",
       "  <thead>\n",
       "    <tr style=\"text-align: right;\">\n",
       "      <th></th>\n",
       "      <th>Name</th>\n",
       "      <th>Qualification</th>\n",
       "    </tr>\n",
       "  </thead>\n",
       "  <tbody>\n",
       "    <tr>\n",
       "      <th>0</th>\n",
       "      <td>Clem</td>\n",
       "      <td>Msc</td>\n",
       "    </tr>\n",
       "    <tr>\n",
       "      <th>1</th>\n",
       "      <td>Prince</td>\n",
       "      <td>MA</td>\n",
       "    </tr>\n",
       "    <tr>\n",
       "      <th>2</th>\n",
       "      <td>Edward</td>\n",
       "      <td>MCA</td>\n",
       "    </tr>\n",
       "    <tr>\n",
       "      <th>3</th>\n",
       "      <td>Adele</td>\n",
       "      <td>Phd</td>\n",
       "    </tr>\n",
       "  </tbody>\n",
       "</table>\n",
       "</div>"
      ],
      "text/plain": [
       "     Name Qualification\n",
       "0    Clem           Msc\n",
       "1  Prince            MA\n",
       "2  Edward           MCA\n",
       "3   Adele           Phd"
      ]
     },
     "execution_count": 16,
     "metadata": {},
     "output_type": "execute_result"
    }
   ],
   "source": [
    "# Import pandas package\n",
    "import pandas as pd\n",
    " \n",
    "# Define a dictionary containing employee data\n",
    "data = {'Name':['Clem', 'Prince', 'Edward', 'Adele'],\n",
    "        'Age':[27, 24, 22, 32],\n",
    "        'Address':['Abuja', 'Kano', 'Minna', 'Lagos'],\n",
    "        'Qualification':['Msc', 'MA', 'MCA', 'Phd']}\n",
    " \n",
    "# Convert the dictionary into DataFrame \n",
    "df = pd.DataFrame(data)\n",
    " \n",
    "# select two columns\n",
    "df[['Name', 'Qualification']]\n"
   ]
  },
  {
   "cell_type": "markdown",
   "metadata": {},
   "source": [
    "### Row Selection:\n",
    "Pandas provide a unique method to retrieve rows from a Data frame.<br>\n",
    "<i><font color=\"green\">DataFrame.iloc[]</font></i> method is used to retrieve rows from Pandas DataFrame.<br>"
   ]
  },
  {
   "cell_type": "code",
   "execution_count": 20,
   "metadata": {},
   "outputs": [
    {
     "data": {
      "text/plain": [
       "Name              Oyin\n",
       "Age                 27\n",
       "Address          Asaba\n",
       "Qualification      Msc\n",
       "Name: 0, dtype: object"
      ]
     },
     "execution_count": 20,
     "metadata": {},
     "output_type": "execute_result"
    }
   ],
   "source": [
    "import pandas as pg\n",
    " \n",
    "# Define a dictionary containing employee data\n",
    "data = {'Name':['Oyin', 'Mary', 'David', 'Bola'],\n",
    "        'Age':[27, 24, 22, 32],\n",
    "        'Address':['Asaba', 'Maiduguri', 'Onitsha', 'Kwara'],\n",
    "        'Qualification':['Msc', 'MA', 'MCA', 'Phd']}\n",
    " \n",
    "# Convert the dictionary into DataFrame \n",
    "df = pd.DataFrame(data)\n",
    " \n",
    "# select first row\n",
    "df.iloc[0]"
   ]
  },
  {
   "cell_type": "markdown",
   "metadata": {},
   "source": [
    "### Read from a file:"
   ]
  },
  {
   "cell_type": "code",
   "execution_count": 44,
   "metadata": {},
   "outputs": [
    {
     "data": {
      "text/html": [
       "<div>\n",
       "<style scoped>\n",
       "    .dataframe tbody tr th:only-of-type {\n",
       "        vertical-align: middle;\n",
       "    }\n",
       "\n",
       "    .dataframe tbody tr th {\n",
       "        vertical-align: top;\n",
       "    }\n",
       "\n",
       "    .dataframe thead th {\n",
       "        text-align: right;\n",
       "    }\n",
       "</style>\n",
       "<table border=\"1\" class=\"dataframe\">\n",
       "  <thead>\n",
       "    <tr style=\"text-align: right;\">\n",
       "      <th></th>\n",
       "      <th>Unnamed: 0</th>\n",
       "      <th>name</th>\n",
       "      <th>degree</th>\n",
       "      <th>score</th>\n",
       "    </tr>\n",
       "  </thead>\n",
       "  <tbody>\n",
       "    <tr>\n",
       "      <th>0</th>\n",
       "      <td>0</td>\n",
       "      <td>Abel</td>\n",
       "      <td>MBA</td>\n",
       "      <td>90</td>\n",
       "    </tr>\n",
       "    <tr>\n",
       "      <th>1</th>\n",
       "      <td>1</td>\n",
       "      <td>Kamsi</td>\n",
       "      <td>BCA</td>\n",
       "      <td>40</td>\n",
       "    </tr>\n",
       "    <tr>\n",
       "      <th>2</th>\n",
       "      <td>2</td>\n",
       "      <td>Oyode</td>\n",
       "      <td>M.Tech</td>\n",
       "      <td>80</td>\n",
       "    </tr>\n",
       "    <tr>\n",
       "      <th>3</th>\n",
       "      <td>3</td>\n",
       "      <td>Chinelo</td>\n",
       "      <td>MBA</td>\n",
       "      <td>98</td>\n",
       "    </tr>\n",
       "  </tbody>\n",
       "</table>\n",
       "</div>"
      ],
      "text/plain": [
       "   Unnamed: 0     name  degree  score\n",
       "0           0     Abel     MBA     90\n",
       "1           1    Kamsi     BCA     40\n",
       "2           2    Oyode  M.Tech     80\n",
       "3           3  Chinelo     MBA     98"
      ]
     },
     "execution_count": 44,
     "metadata": {},
     "output_type": "execute_result"
    }
   ],
   "source": [
    "# importing pandas package\n",
    "import pandas as pd\n",
    " \n",
    "# making data frame from csv file\n",
    "data = pd.read_csv(\"employee_records.csv\")\n",
    "\n",
    "# print excel\n",
    "data"
   ]
  },
  {
   "cell_type": "markdown",
   "metadata": {},
   "source": [
    "### Select first row from file"
   ]
  },
  {
   "cell_type": "code",
   "execution_count": 50,
   "metadata": {},
   "outputs": [
    {
     "data": {
      "text/plain": [
       "Unnamed: 0       0\n",
       "name          Abel\n",
       "degree         MBA\n",
       "score           90\n",
       "Name: 0, dtype: object"
      ]
     },
     "execution_count": 50,
     "metadata": {},
     "output_type": "execute_result"
    }
   ],
   "source": [
    "# importing pandas package\n",
    "import pandas as pd\n",
    " \n",
    "# making data frame from csv file\n",
    "data = pd.read_csv(\"employee_records.csv\")\n",
    "\n",
    "df=data.iloc[0]\n",
    "\n",
    "# print excel\n",
    "df"
   ]
  },
  {
   "cell_type": "markdown",
   "metadata": {},
   "source": [
    "### Selecting Row with Title Header"
   ]
  },
  {
   "cell_type": "code",
   "execution_count": 52,
   "metadata": {},
   "outputs": [
    {
     "data": {
      "text/html": [
       "<div>\n",
       "<style scoped>\n",
       "    .dataframe tbody tr th:only-of-type {\n",
       "        vertical-align: middle;\n",
       "    }\n",
       "\n",
       "    .dataframe tbody tr th {\n",
       "        vertical-align: top;\n",
       "    }\n",
       "\n",
       "    .dataframe thead th {\n",
       "        text-align: right;\n",
       "    }\n",
       "</style>\n",
       "<table border=\"1\" class=\"dataframe\">\n",
       "  <thead>\n",
       "    <tr style=\"text-align: right;\">\n",
       "      <th></th>\n",
       "      <th>MatNo</th>\n",
       "      <th>Name</th>\n",
       "      <th>Age</th>\n",
       "      <th>Grade</th>\n",
       "    </tr>\n",
       "  </thead>\n",
       "  <tbody>\n",
       "    <tr>\n",
       "      <th>0</th>\n",
       "      <td>1810</td>\n",
       "      <td>Aina Adeleke</td>\n",
       "      <td>16</td>\n",
       "      <td>80</td>\n",
       "    </tr>\n",
       "  </tbody>\n",
       "</table>\n",
       "</div>"
      ],
      "text/plain": [
       "   MatNo          Name  Age  Grade\n",
       "0   1810  Aina Adeleke   16     80"
      ]
     },
     "execution_count": 52,
     "metadata": {},
     "output_type": "execute_result"
    }
   ],
   "source": [
    "# importing pandas package\n",
    "import pandas as pd\n",
    " \n",
    "# making data frame from csv file\n",
    "data = pd.read_csv(\"SIS.csv\")\n",
    "\n",
    "df=data.head(1)\n",
    "\n",
    "# print excel\n",
    "df"
   ]
  },
  {
   "cell_type": "markdown",
   "metadata": {},
   "source": [
    "### Looping over rows and columns\n",
    "A loop is a general term for taking each item of something, one after another.<br> Pandas DataFrame consists of rows and columns so, in order to loop over dataframe, we have to iterate a dataframe like a dictionary.<br><br>\n",
    "In order to iterate over rows, we can use two functions <i><font color=\"green\">iteritems(), iterrows() </font></i>. These two functions will help in iteration over rows."
   ]
  },
  {
   "cell_type": "code",
   "execution_count": 28,
   "metadata": {},
   "outputs": [
    {
     "name": "stdout",
     "output_type": "stream",
     "text": [
      "0 name      Abdul\n",
      "degree      MBA\n",
      "score        90\n",
      "Name: 0, dtype: object\n",
      "\n",
      "1 name      Chukwuemeka\n",
      "degree            BCA\n",
      "score              40\n",
      "Name: 1, dtype: object\n",
      "\n",
      "2 name        Seyi\n",
      "degree    M.Tech\n",
      "score         80\n",
      "Name: 2, dtype: object\n",
      "\n",
      "3 name      Matt\n",
      "degree     MBA\n",
      "score       98\n",
      "Name: 3, dtype: object\n",
      "\n"
     ]
    }
   ],
   "source": [
    "# importing pandas as pd\n",
    "import pandas as pd\n",
    "  \n",
    "# dictionary of lists\n",
    "dict = {'name':[\"Abdul\", \"Chukwuemeka\", \"Seyi\", \"Matt\"],\n",
    "        'degree': [\"MBA\", \"BCA\", \"M.Tech\", \"MBA\"],\n",
    "        'score':[90, 40, 80, 98]}\n",
    " \n",
    "# creating a dataframe from a dictionary \n",
    "df = pd.DataFrame(dict)\n",
    "\n",
    "# iterating over rows using iterrows() function \n",
    "for i, j in df.iterrows():\n",
    "    print(i, j)\n",
    "    print()"
   ]
  },
  {
   "cell_type": "markdown",
   "metadata": {},
   "source": [
    "### Looping over Columns :\n",
    "In order to loop over columns, we need to create a list of dataframe columns and then iterating through that list to pull out the dataframe columns."
   ]
  },
  {
   "cell_type": "code",
   "execution_count": 38,
   "metadata": {},
   "outputs": [
    {
     "name": "stdout",
     "output_type": "stream",
     "text": [
      "Ugochi\n",
      "M.Tech\n",
      "80\n"
     ]
    }
   ],
   "source": [
    "# importing pandas as pd\n",
    "import pandas as pd\n",
    "   \n",
    "# dictionary of lists\n",
    "dict = {'name':[\"Bello\", \"Kamara\", \"Ugochi\", \"David\"],\n",
    "        'degree': [\"MBA\", \"BCA\", \"M.Tech\", \"MBA\"],\n",
    "        'score':[90, 40, 80, 98]}\n",
    "  \n",
    "# creating a dataframe from a dictionary \n",
    "df = pd.DataFrame(dict)\n",
    "\n",
    "# creating a list of dataframe columns\n",
    "columns = list(df)\n",
    " \n",
    "for i in columns:\n",
    " \n",
    "    # printing the third element of the column\n",
    "    print (df[i][2])"
   ]
  },
  {
   "cell_type": "markdown",
   "metadata": {},
   "source": [
    "### Saving a DataFrame as CSV file"
   ]
  },
  {
   "cell_type": "code",
   "execution_count": 42,
   "metadata": {},
   "outputs": [],
   "source": [
    "# importing pandas as pd\n",
    "import pandas as pd\n",
    "   \n",
    "# dictionary of lists\n",
    "records = {'name':[\"Abel\", \"Kamsi\", \"Oyode\", \"Chinelo\"],\n",
    "        'degree': [\"MBA\", \"BCA\", \"M.Tech\", \"MBA\"],\n",
    "        'score':[90, 40, 80, 98]}\n",
    "  \n",
    "# creating a dataframe from a dictionary \n",
    "df = pd.DataFrame(records)\n",
    "\n",
    "# saving the dataframe\n",
    "df.to_csv('records.csv')"
   ]
  },
  {
   "cell_type": "markdown",
   "metadata": {},
   "source": [
    "## Class Project I\n"
   ]
  },
  {
   "cell_type": "markdown",
   "metadata": {},
   "source": [
    "####  Go to www.kaggle.com\n",
    "\n",
    "Kaggle allows users to find and publish data sets, explore and build models in a web-based data-science environment, work with other data scientists and machine learning engineers, and enter competitions to solve data science challenges.\n",
    "\n",
    "#### Download the following dataset:\n",
    "1. Top Apps in Google Play\n",
    "2. Cryptocurrency Predict Artificial Intelligence V3\n",
    "3. Programming Languages Trend Over Time\n",
    "\n",
    "#### Clue\n",
    "You can signin with either Google, facebook or Linkedin account\n",
    "\n",
    "#### Task\n",
    "Display the first 7 rows of each dataset<br>\n",
    "Select the first 3 colums of each dataset<br>\n",
    "Display only one row and header of each dataset\n"
   ]
  },
  {
   "cell_type": "code",
   "execution_count": 56,
   "metadata": {},
   "outputs": [
    {
     "name": "stdout",
     "output_type": "stream",
     "text": [
      "--- Starting Data Inspection ---\n",
      "------------------------------\n",
      "\n",
      "### Processing: BTC_DATA_V3.0.csv\n",
      "===============================\n",
      "\n",
      "#### First 7 Rows of 'BTC_DATA_V3.0.csv':\n",
      "| Date      |   Price |   Open |    High |     Low | Vol.    | Change %   |\n",
      "|:----------|--------:|-------:|--------:|--------:|:--------|:-----------|\n",
      "| 25-Mar-22 |   44331 |  44013 | 45112   | 43622   | 494.09M | 0.72%      |\n",
      "| 24-Mar-22 |   44013 |  42911 | 44251   | 42658   | 491.66M | 2.57%      |\n",
      "| 23-Mar-22 |   42912 |  42373 | 43027   | 41795   | 433.96M | 1.27%      |\n",
      "| 22-Mar-22 |   42373 |  41022 | 43327.9 | 40893   | 537.06M | 3.29%      |\n",
      "| 21-Mar-22 |   41022 |  41282 | 41532   | 40530   | 406.62M | -0.62%     |\n",
      "| 20-Mar-22 |   41276 |  42241 | 42301   | 40922   | 308.45M | -2.27%     |\n",
      "| 19-Mar-22 |   42233 |  41768 | 42386   | 41529.6 | 224.59M | 1.11%      |\n",
      "\n",
      "#### First 3 Columns (and their first 7 rows) of 'BTC_DATA_V3.0.csv':\n",
      "| Date      |   Price |   Open |\n",
      "|:----------|--------:|-------:|\n",
      "| 25-Mar-22 |   44331 |  44013 |\n",
      "| 24-Mar-22 |   44013 |  42911 |\n",
      "| 23-Mar-22 |   42912 |  42373 |\n",
      "| 22-Mar-22 |   42373 |  41022 |\n",
      "| 21-Mar-22 |   41022 |  41282 |\n",
      "| 20-Mar-22 |   41276 |  42241 |\n",
      "| 19-Mar-22 |   42233 |  41768 |\n",
      "\n",
      "#### First Row and Header of 'BTC_DATA_V3.0.csv':\n",
      "| Date      |   Price |   Open |   High |   Low | Vol.    | Change %   |\n",
      "|:----------|--------:|-------:|-------:|------:|:--------|:-----------|\n",
      "| 25-Mar-22 |   44331 |  44013 |  45112 | 43622 | 494.09M | 0.72%      |\n",
      "\n",
      "### Processing: programming language trend over time.csv\n",
      "======================================================\n",
      "\n",
      "#### First 7 Rows of 'programming language trend over time.csv':\n",
      "| Week      |   Python |   Java |   C++ |\n",
      "|:----------|---------:|-------:|------:|\n",
      "| 4/21/2019 |       55 |     55 |    18 |\n",
      "| 4/28/2019 |       52 |     50 |    16 |\n",
      "| 5/5/2019  |       56 |     56 |    17 |\n",
      "| 5/12/2019 |       56 |     61 |    18 |\n",
      "| 5/19/2019 |       57 |     56 |    17 |\n",
      "| 5/26/2019 |       55 |     57 |    17 |\n",
      "| 6/2/2019  |       54 |     58 |    15 |\n",
      "\n",
      "#### First 3 Columns (and their first 7 rows) of 'programming language trend over time.csv':\n",
      "| Week      |   Python |   Java |\n",
      "|:----------|---------:|-------:|\n",
      "| 4/21/2019 |       55 |     55 |\n",
      "| 4/28/2019 |       52 |     50 |\n",
      "| 5/5/2019  |       56 |     56 |\n",
      "| 5/12/2019 |       56 |     61 |\n",
      "| 5/19/2019 |       57 |     56 |\n",
      "| 5/26/2019 |       55 |     57 |\n",
      "| 6/2/2019  |       54 |     58 |\n",
      "\n",
      "#### First Row and Header of 'programming language trend over time.csv':\n",
      "| Week      |   Python |   Java |   C++ |\n",
      "|:----------|---------:|-------:|------:|\n",
      "| 4/21/2019 |       55 |     55 |    18 |\n",
      "\n",
      "### Processing: Top-Apps-in-Google-Play.csv\n",
      "=========================================\n",
      "\n",
      "#### First 7 Rows of 'Top-Apps-in-Google-Play.csv':\n",
      "|   Unnamed: 0 | App Name                         | App Id                                  | Category                | Developer Id   | Developer Website                                                                        | Developer Email              | Content Rating   | Ad Supported   | In App Purchases   |\n",
      "|-------------:|:---------------------------------|:----------------------------------------|:------------------------|:---------------|:-----------------------------------------------------------------------------------------|:-----------------------------|:-----------------|:---------------|:-------------------|\n",
      "|            1 | Google Play services             | com.google.android.gms                  | Tools                   | Google LLC     | https://developers.google.com/android/google-play-services/                              | apps-help@google.com         | Everyone         | False          | False              |\n",
      "|            2 | YouTube                          | com.google.android.youtube              | Video Players & Editors | Google LLC     | https://support.google.com/youtube/topic/2422554?rd=1                                    | ytandroid-support@google.com | Teen             | True           | False              |\n",
      "|            3 | Google                           | com.google.android.googlequicksearchbox | Tools                   | Google LLC     | https://www.google.com/search/about/                                                     | apps-help@google.com         | Everyone         | True           | False              |\n",
      "|            4 | Google Maps - Navigate & Explore | com.google.android.apps.maps            | Travel & Local          | Google LLC     | http://maps.google.com/about/                                                            | apps-help@google.com         | Everyone         | True           | False              |\n",
      "|            5 | Google Text-to-Speech            | com.google.android.tts                  | Tools                   | Google LLC     | http://www.google.com/                                                                   | tts-feedback@google.com      | Everyone         | False          | False              |\n",
      "|            6 | Google Chrome: Fast & Secure     | com.android.chrome                      | Communication           | Google LLC     | http://www.google.com/chrome/android                                                     | apps-help@google.com         | Everyone         | False          | False              |\n",
      "|            7 | Gmail                            | com.google.android.gm                   | Communication           | Google LLC     | http://support.google.com/mail/bin/topic.py?hl=en&topic=2451697&parent=2451730&ctx=topic | apps-help@google.com         | Everyone         | True           | False              |\n",
      "\n",
      "#### First 3 Columns (and their first 7 rows) of 'Top-Apps-in-Google-Play.csv':\n",
      "|   Unnamed: 0 | App Name                         | App Id                                  |\n",
      "|-------------:|:---------------------------------|:----------------------------------------|\n",
      "|            1 | Google Play services             | com.google.android.gms                  |\n",
      "|            2 | YouTube                          | com.google.android.youtube              |\n",
      "|            3 | Google                           | com.google.android.googlequicksearchbox |\n",
      "|            4 | Google Maps - Navigate & Explore | com.google.android.apps.maps            |\n",
      "|            5 | Google Text-to-Speech            | com.google.android.tts                  |\n",
      "|            6 | Google Chrome: Fast & Secure     | com.android.chrome                      |\n",
      "|            7 | Gmail                            | com.google.android.gm                   |\n",
      "\n",
      "#### First Row and Header of 'Top-Apps-in-Google-Play.csv':\n",
      "|   Unnamed: 0 | App Name             | App Id                 | Category   | Developer Id   | Developer Website                                           | Developer Email      | Content Rating   | Ad Supported   | In App Purchases   |\n",
      "|-------------:|:---------------------|:-----------------------|:-----------|:---------------|:------------------------------------------------------------|:---------------------|:-----------------|:---------------|:-------------------|\n",
      "|            1 | Google Play services | com.google.android.gms | Tools      | Google LLC     | https://developers.google.com/android/google-play-services/ | apps-help@google.com | Everyone         | False          | False              |\n",
      "\n",
      "--- Data Inspection Complete ---\n"
     ]
    }
   ],
   "source": [
    "import pandas as pd\n",
    "\n",
    "# Define the paths to your uploaded CSV files\n",
    "btc_data_path = 'BTC_DATA_V3.0.csv'\n",
    "programming_language_path = 'programming language trend over time.csv'\n",
    "top_apps_path = 'Top-Apps-in-Google-Play.csv'\n",
    "\n",
    "# List of datasets to process, with descriptive names for output\n",
    "datasets = {\n",
    "    \"BTC_DATA_V3.0.csv\": btc_data_path,\n",
    "    \"programming language trend over time.csv\": programming_language_path,\n",
    "    \"Top-Apps-in-Google-Play.csv\": top_apps_path\n",
    "}\n",
    "\n",
    "print(\"--- Starting Data Inspection ---\")\n",
    "print(\"-\" * 30)\n",
    "\n",
    "for name, path in datasets.items():\n",
    "    print(f\"\\n### Processing: {name}\")\n",
    "    print(\"=\" * (len(name) + 14))\n",
    "\n",
    "    try:\n",
    "        # Read the CSV file into a pandas DataFrame\n",
    "        df = pd.read_csv(path)\n",
    "\n",
    "        # 1. Display the first 7 rows of each dataset\n",
    "        print(f\"\\n#### First 7 Rows of '{name}':\")\n",
    "        print(df.head(7).to_markdown(index=False)) # Using to_markdown for cleaner output\n",
    "\n",
    "        # 2. Select the first 3 columns of each dataset\n",
    "        # Check if the DataFrame has at least 3 columns\n",
    "        if df.shape[1] >= 3:\n",
    "            first_3_columns_df = df.iloc[:, :3]\n",
    "            print(f\"\\n#### First 3 Columns (and their first 7 rows) of '{name}':\")\n",
    "            print(first_3_columns_df.head(7).to_markdown(index=False))\n",
    "        else:\n",
    "            print(f\"\\n#### '{name}' has fewer than 3 columns. Displaying all columns (first 7 rows):\")\n",
    "            print(df.head(7).to_markdown(index=False))\n",
    "\n",
    "\n",
    "        # 3. Display only one row (the first) and header of each dataset\n",
    "        print(f\"\\n#### First Row and Header of '{name}':\")\n",
    "        # .iloc[0:1] selects the first row as a DataFrame, preserving the header\n",
    "        print(df.iloc[0:1].to_markdown(index=False))\n",
    "\n",
    "    except FileNotFoundError:\n",
    "        print(f\"Error: The file '{name}' was not found at '{path}'. Please ensure it's uploaded correctly.\")\n",
    "    except Exception as e:\n",
    "        print(f\"An error occurred while processing '{name}': {e}\")\n",
    "\n",
    "print(\"\\n--- Data Inspection Complete ---\")\n"
   ]
  },
  {
   "cell_type": "markdown",
   "metadata": {},
   "source": [
    "## Class Project II"
   ]
  },
  {
   "cell_type": "markdown",
   "metadata": {},
   "source": [
    "<b>Cadbury Nigeria Plc</b> manufactures and sells branded fast moving consumer goods to the Nigerian market and exports in West Africa. The Company produces intermediate products, such as cocoa butter, liquor, cake and powder. It exports cocoa butter, cake and liquor to international customers, and cocoa powder locally. It operates through three segments: Refreshment Beverages, Confectionery and Intermediate Cocoa Products. The Refreshment Beverages segment includes the manufacture and sale of Bournvita and Hot Chocolate. The Confectionery segment includes the manufacture and sale of Tom Tom and Buttermint. The Intermediate Cocoa Products segment includes the manufacture and sale of cocoa powder, cocoa butter, cocoa liquor and cocoa cake. The Refreshment Beverages' brands include CADBURY BOURNVITA and CADBURY 3-in-1 HOT CHOCOLATE. The Confectionery's brands include TOMTOM CLASSIC, TOMTOM STRAWBERRY and BUTTERMINT. The Intermediate Cocoa Products' brands include COCOA POWDER and COCOA BUTTER.\n",
    "\n",
    "You have been employed as an expert python developer to create a program to document the consumption categories of their products and brands. Using your knowledge of Pandas DataFrames develop the program that saves the list of products (export, segments and brands) in a .csv excel file.<br><br>\n",
    "Hint: save the filename as <font color=\"green\"><i>cadbury_market.csv</i></font>."
   ]
  },
  {
   "cell_type": "code",
   "execution_count": 60,
   "metadata": {},
   "outputs": [
    {
     "name": "stdout",
     "output_type": "stream",
     "text": [
      "Successfully documented Cadbury products and brands to 'cadbury_market.csv'.\n",
      "\n",
      "--- First 5 rows of the generated DataFrame: ---\n",
      "| Product Name       | Segment               | Brand                        | Market/Usage               |\n",
      "|:-------------------|:----------------------|:-----------------------------|:---------------------------|\n",
      "| Bournvita          | Refreshment Beverages | CADBURY BOURNVITA            | Nigerian Market (Consumer) |\n",
      "| Hot Chocolate      | Refreshment Beverages | CADBURY 3-in-1 HOT CHOCOLATE | Nigerian Market (Consumer) |\n",
      "| Tom Tom Classic    | Confectionery         | TOMTOM CLASSIC               | Nigerian Market (Consumer) |\n",
      "| Tom Tom Strawberry | Confectionery         | TOMTOM STRAWBERRY            | Nigerian Market (Consumer) |\n",
      "| Buttermint         | Confectionery         | BUTTERMINT                   | Nigerian Market (Consumer) |\n"
     ]
    }
   ],
   "source": [
    "import pandas as pd\n",
    "\n",
    "def document_cadbury_products():\n",
    "    \"\"\"\n",
    "    Documents Cadbury Nigeria Plc's product consumption categories,\n",
    "    segments, and brands into a Pandas DataFrame and saves it to a CSV file.\n",
    "    \"\"\"\n",
    "\n",
    "    # Data extracted from the provided company description\n",
    "    # This list of dictionaries will form the basis of our DataFrame\n",
    "    products_data = [\n",
    "        # Refreshment Beverages Segment\n",
    "        {\n",
    "            'Product Name': 'Bournvita',\n",
    "            'Segment': 'Refreshment Beverages',\n",
    "            'Brand': 'CADBURY BOURNVITA',\n",
    "            'Market/Usage': 'Nigerian Market (Consumer)'\n",
    "        },\n",
    "        {\n",
    "            'Product Name': 'Hot Chocolate',\n",
    "            'Segment': 'Refreshment Beverages',\n",
    "            'Brand': 'CADBURY 3-in-1 HOT CHOCOLATE',\n",
    "            'Market/Usage': 'Nigerian Market (Consumer)'\n",
    "        },\n",
    "        # Confectionery Segment\n",
    "        {\n",
    "            'Product Name': 'Tom Tom Classic',\n",
    "            'Segment': 'Confectionery',\n",
    "            'Brand': 'TOMTOM CLASSIC',\n",
    "            'Market/Usage': 'Nigerian Market (Consumer)'\n",
    "        },\n",
    "        {\n",
    "            'Product Name': 'Tom Tom Strawberry',\n",
    "            'Segment': 'Confectionery',\n",
    "            'Brand': 'TOMTOM STRAWBERRY',\n",
    "            'Market/Usage': 'Nigerian Market (Consumer)'\n",
    "        },\n",
    "        {\n",
    "            'Product Name': 'Buttermint',\n",
    "            'Segment': 'Confectionery',\n",
    "            'Brand': 'BUTTERMINT',\n",
    "            'Market/Usage': 'Nigerian Market (Consumer)'\n",
    "        },\n",
    "        # Intermediate Cocoa Products Segment\n",
    "        {\n",
    "            'Product Name': 'Cocoa Powder',\n",
    "            'Segment': 'Intermediate Cocoa Products',\n",
    "            'Brand': 'COCOA POWDER',\n",
    "            'Market/Usage': 'Local Market (Intermediate Product)'\n",
    "        },\n",
    "        {\n",
    "            'Product Name': 'Cocoa Butter',\n",
    "            'Segment': 'Intermediate Cocoa Products',\n",
    "            'Brand': 'COCOA BUTTER',\n",
    "            'Market/Usage': 'Export (International Customer)'\n",
    "        },\n",
    "        {\n",
    "            'Product Name': 'Cocoa Liquor',\n",
    "            'Segment': 'Intermediate Cocoa Products',\n",
    "            'Brand': 'COCOA LIQUOR',\n",
    "            'Market/Usage': 'Export (International Customer)'\n",
    "        },\n",
    "        {\n",
    "            'Product Name': 'Cocoa Cake',\n",
    "            'Segment': 'Intermediate Cocoa Products',\n",
    "            'Brand': 'COCOA CAKE',\n",
    "            'Market/Usage': 'Export (International Customer)'\n",
    "        }\n",
    "    ]\n",
    "\n",
    "    # Create a Pandas DataFrame from the structured data\n",
    "    df = pd.DataFrame(products_data)\n",
    "\n",
    "    # Define the filename for the CSV output\n",
    "    filename = 'cadbury_market.csv'\n",
    "\n",
    "    try:\n",
    "        # Save the DataFrame to a CSV file\n",
    "        # index=False prevents Pandas from writing the DataFrame index as a column in the CSV\n",
    "        df.to_csv(filename, index=False)\n",
    "        print(f\"Successfully documented Cadbury products and brands to '{filename}'.\")\n",
    "        print(\"\\n--- First 5 rows of the generated DataFrame: ---\")\n",
    "        print(df.head().to_markdown(index=False)) # Display the head of the DataFrame for verification\n",
    "    except Exception as e:\n",
    "        print(f\"An error occurred while saving the data to CSV: {e}\")\n",
    "\n",
    "# Run the function to create the documentation file\n",
    "if __name__ == '__main__':\n",
    "    document_cadbury_products()\n"
   ]
  }
 ],
 "metadata": {
  "kernelspec": {
   "display_name": "Python [conda env:base] *",
   "language": "python",
   "name": "conda-base-py"
  },
  "language_info": {
   "codemirror_mode": {
    "name": "ipython",
    "version": 3
   },
   "file_extension": ".py",
   "mimetype": "text/x-python",
   "name": "python",
   "nbconvert_exporter": "python",
   "pygments_lexer": "ipython3",
   "version": "3.12.7"
  }
 },
 "nbformat": 4,
 "nbformat_minor": 4
}
