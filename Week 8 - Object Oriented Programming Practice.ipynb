{
 "cells": [
  {
   "cell_type": "markdown",
   "metadata": {},
   "source": [
    "# Object Oriented Programming Concepts\n",
    "<ul>\n",
    "    <li>Python is an object-oriented programming language. Unlike procedure-oriented programming, where the main emphasis is on functions, object-oriented programming stresses on objects.</li><li>\n",
    "\n",
    "An object is simply a collection of data (variables) and methods (functions) that act on those data. Similarly, a class is a blueprint for that object.</li><li>\n",
    "\n",
    "We can think of a class as a sketch (prototype) of a house. It contains all the details about the floors, doors, windows, etc. Based on these descriptions we build the house. House is the object.</li><li>\n",
    "\n",
    "As many houses can be made from a house's blueprint, we can create many objects from a class. </li><li>Object-oriented Programming (OOPs) is a programming paradigm that uses objects and classes in programming.</li>\n",
    "    <li> \n",
    "It aims to implement real-world entities like inheritance, polymorphisms, encapsulation, etc. in the programming.</li>\n",
    "    <li>\n",
    "The main concept of OOPs is to bind the data and the functions that work on that together as a single unit so that no other part of the code can access this data. </li></ul>"
   ]
  },
  {
   "cell_type": "markdown",
   "metadata": {},
   "source": [
    "# Main Concepts of OOP\n",
    "   <ul><li> Class</li>\n",
    "    <li>\n",
    "Objects</li>\n",
    "    <li>\n",
    "Polymorphism</li>\n",
    "    <li>\n",
    "Encapsulation</li>\n",
    "    <li>\n",
    "Inheritance</li></ul>"
   ]
  },
  {
   "cell_type": "markdown",
   "metadata": {},
   "source": [
    "## Class\n",
    "<ul><li>A class is a collection of objects.</li><li> A class contains the blueprints or the prototype from which the objects are being created. </li><li>It is a logical entity that contains some attributes and methods. </li></ul>\n",
    "\n",
    "Let's take an example:<br><br>\n",
    "<img src=\"class.jpg\" align=\"left\">\n",
    "A parrot is an object, as it has the following properties:\n",
    "\n",
    "<ul><li>name, age, color as attributes</li><li>\n",
    "singing, dancing as behavior</li></ul>\n"
   ]
  },
  {
   "cell_type": "markdown",
   "metadata": {},
   "source": [
    "### Some points on Python class:  \n",
    "\n",
    "<ul><li>Classes are created by keyword class.</li><li>\n",
    "Attributes are the variables that belong to a class.</li><li>\n",
    "Attributes are always public and can be accessed using the dot (.) operator. Eg.: Myclass.Myattribute</li></ul>\n",
    "The concept of OOP in Python focuses on creating reusable code. This concept is also known as DRY (Don't Repeat Yourself)."
   ]
  },
  {
   "cell_type": "markdown",
   "metadata": {},
   "source": [
    "### Creating an empty class"
   ]
  },
  {
   "cell_type": "code",
   "execution_count": 138,
   "metadata": {},
   "outputs": [],
   "source": [
    "# A Python program to\n",
    "# demonstrate defining\n",
    "# a class\n",
    "\n",
    "class Parrot:()\n",
    "  "
   ]
  },
  {
   "cell_type": "markdown",
   "metadata": {},
   "source": [
    "## Objects\n",
    "<ul><li>The object is an entity that has a state and behavior associated with it.</li><li> It may be any real-world object like a mouse, keyboard, chair, table, pen, etc.</li><li> Integers, strings, floating-point numbers, even arrays, and dictionaries, are all objects.</li><li> You’ve been using objects all along and may not even realize it.</li></ul>"
   ]
  },
  {
   "cell_type": "markdown",
   "metadata": {},
   "source": [
    "### An object consists of :\n",
    "\n",
    "<img src=\"objects.jpg\" width=\"300\" height=\"360\" align=\"left\">\n",
    "\n",
    "<ul><li><b>State:</b> It is represented by the attributes of an object. It also reflects the properties of an object.</li><li>\n",
    "<b>Behavior:</b> It is represented by the methods of an object. It also reflects the response of an object to other objects.</li><li>\n",
    "<b>Identity:</b> It gives a unique name to an object and enables one object to interact with other objects.</li></ul>"
   ]
  },
  {
   "cell_type": "markdown",
   "metadata": {},
   "source": [
    "### Creating an object \n",
    "<ul><li>An object (instance) is an instantiation of a class.</li><li> When class is defined, only the description for the object is defined. Therefore, no memory or storage is allocated.</li></ul>"
   ]
  },
  {
   "cell_type": "code",
   "execution_count": 3,
   "metadata": {},
   "outputs": [],
   "source": [
    "obj = Parrot()"
   ]
  },
  {
   "cell_type": "markdown",
   "metadata": {},
   "source": [
    "### Declaring an object"
   ]
  },
  {
   "cell_type": "code",
   "execution_count": 32,
   "metadata": {},
   "outputs": [
    {
     "name": "stdout",
     "output_type": "stream",
     "text": [
      "mammal\n",
      "I'm a mammal\n",
      "I'm a dog\n"
     ]
    }
   ],
   "source": [
    "# Python program to\n",
    "# demonstrate instantiating\n",
    "# a class\n",
    "\n",
    "\n",
    "class Dog():\n",
    "\n",
    "    # A simple class\n",
    "    # attribute\n",
    "    attr1 = \"mammal\"\n",
    "    attr2 = \"dog\"\n",
    "\n",
    "    # A class method\n",
    "    def fun(self):\n",
    "        print(\"I'm a\", self.attr1)\n",
    "        print(\"I'm a\", self.attr2)\n",
    "\n",
    "# Object instantiation\n",
    "Rodger = Dog()\n",
    "\n",
    "# Accessing class attributes\n",
    "# and method through objects\n",
    "\n",
    "print(Rodger.attr1)\n",
    "Rodger.fun()\n"
   ]
  },
  {
   "cell_type": "markdown",
   "metadata": {},
   "source": [
    "### Understanding some basic keywords\n"
   ]
  },
  {
   "cell_type": "markdown",
   "metadata": {},
   "source": [
    "#### The self\n",
    "<ul><li><b>self</b> represents the instance of the class. By using the <b>“self”</b>  we can access the attributes and methods of the class in python. It binds the attributes with the given arguments.</li><li> Python decided to do methods in a way that makes the instance to which the method belongs be passed automatically, but not received automatically: the first parameter of methods is the instance the method is called on.</li><li>\n",
    "    Class methods must have an extra first parameter in the method definition. We do not give a value for this parameter when we call the method, Python provides it.</li><li>\n",
    "If we have a method that takes no arguments, then we still have to have one argument.</li><li>\n",
    "This is similar to this pointer in C++ and this reference in Java.</li></ul>"
   ]
  },
  {
   "cell_type": "markdown",
   "metadata": {},
   "source": [
    "### Characteristics of SELF\n",
    "#### <ul><li>Self is always pointing to Current Object.</li></ul>"
   ]
  },
  {
   "cell_type": "code",
   "execution_count": 8,
   "metadata": {},
   "outputs": [
    {
     "name": "stdout",
     "output_type": "stream",
     "text": [
      "Address of self =  5362285600\n",
      "Address of class object =  5362285600\n"
     ]
    }
   ],
   "source": [
    "# It is clearly seen that self and obj is referring to the same object\n",
    "\n",
    "class check_:\n",
    "    def __init__(self):\n",
    "        print(\"Address of self = \",id(self))\n",
    "\n",
    "obj = check_()\n",
    "print(\"Address of class object = \",id(obj))\n"
   ]
  },
  {
   "cell_type": "code",
   "execution_count": 146,
   "metadata": {},
   "outputs": [
    {
     "name": "stdout",
     "output_type": "stream",
     "text": [
      "Model is Toyota Corolla\n",
      "color is blue\n",
      "Model is Kia Cerato\n",
      "color is green\n"
     ]
    }
   ],
   "source": [
    "# Another example using SELF\n",
    "\n",
    "class car():\n",
    "\n",
    "    # init method or constructor\n",
    "    def __init__(self, model, color):\n",
    "        self.model = model\n",
    "        self.color = color\n",
    "\n",
    "    def show(self):\n",
    "        print(\"Model is\", self.model )\n",
    "        print(\"color is\", self.color )\n",
    "\n",
    "\n",
    "toyota = car(\"Toyota Corolla\", \"blue\")\n",
    "kia = car(\"Kia Cerato\", \"green\")\n",
    "\n",
    "toyota.show() # same output as car.show(toyota)\n",
    "kia.show() # same output as car.show(kia)\n",
    "\n"
   ]
  },
  {
   "cell_type": "markdown",
   "metadata": {},
   "source": [
    "#### <ul><li>Self is the first argument to be passed in Constructor and Instance Method.</li></ul>"
   ]
  },
  {
   "cell_type": "code",
   "execution_count": 142,
   "metadata": {},
   "outputs": [
    {
     "name": "stdout",
     "output_type": "stream",
     "text": [
      "Worked fine\n"
     ]
    }
   ],
   "source": [
    "# Self is always required as the first argument\n",
    "class check:\n",
    "    def __init__():\n",
    "        print(\"This is Constructor\")\n",
    "\n",
    "object = check\n",
    "print(\"Worked fine\")"
   ]
  },
  {
   "cell_type": "markdown",
   "metadata": {},
   "source": [
    "#### <ul><li>Self is a convention and not a Python keyword.</li></ul>"
   ]
  },
  {
   "cell_type": "code",
   "execution_count": 40,
   "metadata": {},
   "outputs": [
    {
     "name": "stdout",
     "output_type": "stream",
     "text": [
      "we have used another parameter name in place of self\n"
     ]
    }
   ],
   "source": [
    "# Write Python3 code here\n",
    "\n",
    "class this_is_class:\n",
    "    def __init__(in_place_of_self):\n",
    "        print(\"we have used another \"\n",
    "        \"parameter name in place of self\")\n",
    "\n",
    "object = this_is_class()\n"
   ]
  },
  {
   "cell_type": "markdown",
   "metadata": {},
   "source": [
    "### The __ __init__ __ method \n",
    "<ul><li>The __init__ method is similar to constructors in C++ and Java. </li><li>It is run as soon as an object of a class is instantiated. </li><li>The method is useful to do any initialization you want to do with your object. </li>\n",
    "    <li>Constructors are used to initialize the object’s state. The task of constructors is to initialize(assign values) to the data members of the class when an object of class is created. Like methods, a constructor also contains collection of statements(i.e. instructions) that are executed at time of Object creation. It is run as soon as an object of a class is instantiated. The method is useful to do any initialization you want to do with your object.</li></ul>"
   ]
  },
  {
   "cell_type": "code",
   "execution_count": 44,
   "metadata": {},
   "outputs": [
    {
     "name": "stdout",
     "output_type": "stream",
     "text": [
      "Hello, my name is Hans Madugu\n"
     ]
    }
   ],
   "source": [
    "# A class with init method\n",
    "\n",
    "class Person:\n",
    "\n",
    "    # init method or constructor\n",
    "    def __init__(self, name):\n",
    "        self.name = name\n",
    "\n",
    "    # Method\n",
    "    def say_hi(self):\n",
    "        print('Hello, my name is', self.name)\n",
    "\n",
    "p = Person('Hans Madugu')\n",
    "p.say_hi()\n"
   ]
  },
  {
   "cell_type": "code",
   "execution_count": 50,
   "metadata": {},
   "outputs": [
    {
     "name": "stdout",
     "output_type": "stream",
     "text": [
      "Hello, my name is Enobasi\n",
      "Hello, my name is Leela\n",
      "Hello, my name is Divine\n"
     ]
    }
   ],
   "source": [
    "# Another class with init method\n",
    "class Person:\n",
    "\n",
    "    # init method or constructor\n",
    "    def __init__(self, name):\n",
    "        self.name = name\n",
    "\n",
    "    # Method\n",
    "    def say_hi(self):\n",
    "        print('Hello, my name is', self.name)\n",
    "\n",
    "# Creating different objects\n",
    "\n",
    "p1 = Person('Enobasi')\n",
    "p2 = Person('Leela' )\n",
    "p3 = Person('Divine')\n",
    "\n",
    "p1.say_hi()\n",
    "p2.say_hi()\n",
    "p3.say_hi()\n"
   ]
  },
  {
   "cell_type": "markdown",
   "metadata": {},
   "source": [
    "### Constructors in Python\n",
    "<ul><li>Constructors are generally used for instantiating an object.</li><li>The task of constructors is to initialize(assign values) to the data members of the class when an object of the class is created.</li><li> In Python the __init__() method is called the constructor and is always called when an object is created.</li></ul>"
   ]
  },
  {
   "cell_type": "markdown",
   "metadata": {},
   "source": [
    "### Types of constructors : \n",
    "\n",
    "<ul><li><b>default constructor:</b> The default constructor is a simple constructor which doesn’t accept any arguments. Its definition has only one argument which is a reference to the instance being constructed.</li><li>\n",
    "    <b>parameterized constructor:</b> constructor with parameters is known as parameterized constructor. The parameterized constructor takes its first argument as a reference to the instance being constructed known as self and the rest of the arguments are provided by the programmer.</li></ul>"
   ]
  },
  {
   "cell_type": "markdown",
   "metadata": {},
   "source": [
    "#### Default Constructor"
   ]
  },
  {
   "cell_type": "code",
   "execution_count": 120,
   "metadata": {},
   "outputs": [
    {
     "data": {
      "text/plain": [
       "<bound method Program.print_Course of <__main__.Program object at 0x14893bdd0>>"
      ]
     },
     "execution_count": 120,
     "metadata": {},
     "output_type": "execute_result"
    }
   ],
   "source": [
    "class Program:\n",
    "\n",
    "    # default constructor\n",
    "    def __init__(self):\n",
    "        self.course = \"CSC 102 - Introduction to Problem Solving\"\n",
    "\n",
    "    # a method for printing data members\n",
    "    def print_Course():\n",
    "        print(self.courses)\n",
    "\n",
    "\n",
    "# creating object of the class\n",
    "obj = Program()\n",
    "\n",
    "# calling the instance method using the object obj\n",
    "obj.print_Course\n"
   ]
  },
  {
   "cell_type": "markdown",
   "metadata": {},
   "source": [
    "#### Parameterized Constructor"
   ]
  },
  {
   "cell_type": "code",
   "execution_count": 122,
   "metadata": {},
   "outputs": [
    {
     "name": "stdin",
     "output_type": "stream",
     "text": [
      "Enter first number:  3\n",
      "Enter second number:  5\n"
     ]
    },
    {
     "name": "stdout",
     "output_type": "stream",
     "text": [
      "First number = 3\n",
      "Second number = 5\n",
      "Addition of two numbers = 0\n"
     ]
    }
   ],
   "source": [
    "class Addition:\n",
    "    first = 0\n",
    "    second = 0\n",
    "    answer = 0\n",
    "    \n",
    "    # parameterized constructor\n",
    "    def __init__(self, f, s):\n",
    "        self.first = f\n",
    "        self.second = s\n",
    "\n",
    "    def display(self):\n",
    "        print(\"First number = \" + str(self.first))\n",
    "        print(\"Second number = \" + str(self.second))\n",
    "        print(\"Addition of two numbers = \" + str(self.answer))\n",
    "\n",
    "    def calculate():\n",
    "        self.answer = self.first + self.second\n",
    "\n",
    "# creating object of the class\n",
    "# this will invoke parameterized constructor\n",
    "num1 = int(input(\"Enter first number: \"))\n",
    "num2 = int(input(\"Enter second number: \"))\n",
    "obj = Addition(num1, num2)\n",
    "\n",
    "# perform Addition\n",
    "obj.calculate\n",
    "\n",
    "# display result\n",
    "obj.display()\n"
   ]
  },
  {
   "cell_type": "markdown",
   "metadata": {},
   "source": [
    "### Creating a class and object with class and instance attributes"
   ]
  },
  {
   "cell_type": "code",
   "execution_count": 150,
   "metadata": {},
   "outputs": [
    {
     "name": "stdout",
     "output_type": "stream",
     "text": [
      "Oscar is a mammal\n",
      "Peaches is also a mammal\n",
      "My name is Oscar\n",
      "My name is Peaches\n"
     ]
    }
   ],
   "source": [
    "class Dogs:\n",
    "\n",
    "    # class attribute\n",
    "    attr1 = \"mammal\"\n",
    "\n",
    "    # Instance attribute\n",
    "    def __init__(self, name):\n",
    "        self.name = name\n",
    "\n",
    "# Object instantiation\n",
    "dog1 = Dogs(\"Oscar\")\n",
    "dog2 = Dogs(\"Peaches\")\n",
    "\n",
    "# Accessing class attributes\n",
    "print(\"Oscar is a {}\".format(dog1.__class__.attr1))\n",
    "print(\"Peaches is also a {}\".format(dog2.__class__.attr1))\n",
    "\n",
    "# Accessing instance attributes\n",
    "print(\"My name is {}\".format(dog1.name))\n",
    "print(\"My name is {}\".format(dog2.name))\n"
   ]
  },
  {
   "cell_type": "markdown",
   "metadata": {},
   "source": [
    "### Creating Class and objects with methods"
   ]
  },
  {
   "cell_type": "code",
   "execution_count": 128,
   "metadata": {},
   "outputs": [
    {
     "name": "stdin",
     "output_type": "stream",
     "text": [
      "Enter the name of the first student:  elvis\n",
      "Enter the name of the second student:  presley\n"
     ]
    },
    {
     "name": "stdout",
     "output_type": "stream",
     "text": [
      "My name is elvis\n",
      "I'm studying <class '__main__.SST'>\n",
      "My name is presley\n",
      "I'm studying <class '__main__.SST'>\n"
     ]
    }
   ],
   "source": [
    "class SST:\n",
    "\n",
    "    # class attribute\n",
    "    prog1 = \"Computer Science\"\n",
    "\n",
    "    # Instance attribute\n",
    "    def __init__(self, name):\n",
    "        self.name = name\n",
    "\n",
    "    def speak(self):\n",
    "        print(\"My name is {}\".format(self.name))\n",
    "        print(\"I'm studying {}\".format(stud1.__class__))\n",
    "\n",
    "# Object instantiation\n",
    "stud1 = SST(input(\"Enter the name of the first student: \"))\n",
    "stud2 = SST(input(\"Enter the name of the second student: \"))\n",
    "\n",
    "# Accessing class methods\n",
    "stud1.speak()\n",
    "stud2.speak()\n"
   ]
  },
  {
   "cell_type": "markdown",
   "metadata": {},
   "source": [
    "### Class and Instance Variables\n",
    "<ul><li>Instance variables are for data unique to each instance and class variables are for attributes and methods shared by all instances of the class.</li><li> Instance variables are variables whose value is assigned inside a constructor or method with self, whereas class variables are variables whose value is assigned in the class.</li></ul>"
   ]
  },
  {
   "cell_type": "code",
   "execution_count": 106,
   "metadata": {},
   "outputs": [
    {
     "name": "stdout",
     "output_type": "stream",
     "text": [
      "Rodger details:\n",
      "Rodger is a dog\n",
      "Breed:  Pug\n",
      "Color:  brown\n",
      "\n",
      "Buzo details:\n",
      "Buzo is a dog\n",
      "Breed:  Bulldog\n",
      "Color:  black\n",
      "\n",
      "Accessing class variable using class name\n",
      "dog\n"
     ]
    }
   ],
   "source": [
    "# A Python program to show that the variables with a value\n",
    "# assigned in the class declaration, are class variables and\n",
    "# variables inside methods and constructors are instance\n",
    "# variables.\n",
    "\n",
    "# Class for Dog\n",
    "class Dog:\n",
    "\n",
    "    # Class Variable\n",
    "    animal = 'dog'\n",
    "\n",
    "    # The init method or constructor\n",
    "    def __init__(self, breed, color):\n",
    "    \n",
    "        # Instance Variable\n",
    "        self.breed = breed\n",
    "        self.color = color\n",
    "    \n",
    "# Objects of Dog class\n",
    "Rodger = Dog(\"Pug\", \"brown\")\n",
    "Buzo = Dog(\"Bulldog\",\"black\" )\n",
    "\n",
    "print('Rodger details:')\n",
    "print('Rodger is a', Rodger.animal)\n",
    "print('Breed: ', Rodger.breed)\n",
    "print('Color: ', Rodger.color)\n",
    "\n",
    "print('\\nBuzo details:')\n",
    "print('Buzo is a', Buzo.animal)\n",
    "print('Breed: ', Buzo.breed)\n",
    "print('Color: ', Buzo.color)\n",
    "\n",
    "# Class variables can be accessed using class\n",
    "# name also\n",
    "print(\"\\nAccessing class variable using class name\")\n",
    "print(Dog.animal)\n"
   ]
  },
  {
   "cell_type": "markdown",
   "metadata": {},
   "source": [
    "### Defining instance variable using the normal method."
   ]
  },
  {
   "cell_type": "code",
   "execution_count": 108,
   "metadata": {},
   "outputs": [
    {
     "name": "stdout",
     "output_type": "stream",
     "text": [
      "brown\n"
     ]
    }
   ],
   "source": [
    "# Python program to show that we can create\n",
    "# instance variables inside methods\n",
    "\n",
    "# Class for Dog\n",
    "class Dog:\n",
    "\n",
    "    # Class Variable\n",
    "    animal = 'dog'\n",
    "\n",
    "    # The init method or constructor\n",
    "    def __init__(self, breed):\n",
    "\n",
    "        # Instance Variable\n",
    "        self.breed = breed\n",
    "\n",
    "    # Adds an instance variable\n",
    "    def setColor(self, color):\n",
    "        self.color = color\n",
    "\n",
    "    # Retrieves instance variable\n",
    "    def getColor(self):\n",
    "        return self.color\n",
    "\n",
    "# Object instantiation\n",
    "Rodger = Dog(\"pug\")\n",
    "Rodger.setColor(\"brown\")\n",
    "print(Rodger.getColor())\n"
   ]
  },
  {
   "cell_type": "markdown",
   "metadata": {},
   "source": [
    "One of the key issue that have threatened organizations and institutions is that of logistics. To solve it, employers now use biometric softwares and computer vision enabled tools to verify identities of their employees and take attendance. Mrs. Jane runs a delivery business with 15 employees, but she would want a way to identify if a user is one of her employees, take attendance and assign a task to the employee for the day. \n",
    "\n",
    "Employees = \"Mary Evans\", \"Eyo Ishan\", \"Durojaiye Dare\", \"Adams Ali\", \"Andrew Ugwu\", \"Stella Mankinde\", \"Jane Akibo\", \"Ago James\", \"Michell Taiwo\", \"Abraham Jones\" , \"Nicole Anide\", \"Kosi Korso\", \"Adele Martins\", \"Emmanuel Ojo\", \"Ajayi Fatima\".\n",
    "\n",
    "Tasks = \"Loading\", \"Transporting\", \"Reveiwing Orders\", \"Customer Service\", \"Delivering Items\"\n",
    "\n",
    "Your mission, should you choose to accept it, is to develop a python GUI program using your knowledge in OOP (class and objects) that takes a user's name and check if he/she exists in the list of employees, take attendance for the day and assign a task to the employess … otherwise, you politely refuse access to the system.\n",
    "\n",
    "<b>Hint:</b>\n",
    "\n",
    "<ol><li>Build a class <b>Employee()</b> that has four methods in the class; <b>check_employee()</b>, <b>take_attendance()</b>, <b>assign_task()</b> and <b>refuse_access()</b>.</li><li>\n",
    "    You can <b>import random</b> module and use the <b>random.randint()</b> method to randomly select task from the list. </li></ol>\n"
   ]
  },
  {
   "cell_type": "markdown",
   "metadata": {},
   "source": [
    "## Class Project II"
   ]
  },
  {
   "cell_type": "markdown",
   "metadata": {},
   "source": [
    "## Class Project I"
   ]
  },
  {
   "cell_type": "code",
   "execution_count": null,
   "metadata": {},
   "outputs": [],
   "source": [
    "import sys\n",
    "import random\n",
    "from PyQt5.QtWidgets import (\n",
    "    QApplication, QWidget, QLabel, QLineEdit, QPushButton, QVBoxLayout,\n",
    "    QHBoxLayout, QMessageBox\n",
    ")\n",
    "from PyQt5.QtCore import Qt\n",
    "\n",
    "class Employee:\n",
    "    \"\"\"\n",
    "    Represents an employee in Mrs. Jane's delivery business.\n",
    "    Handles checking employee status, taking attendance, and assigning tasks.\n",
    "    \"\"\"\n",
    "    def __init__(self, name: str):\n",
    "        \"\"\"\n",
    "        Initializes an Employee object with a given name.\n",
    "\n",
    "        Args:\n",
    "            name (str): The name of the employee.\n",
    "        \"\"\"\n",
    "        self.name = name\n",
    "        self.is_present = False # To track attendance, though not persistent in this version\n",
    "        self.assigned_task = None\n",
    "\n",
    "    def check_employee(self, employee_list: list) -> bool:\n",
    "        \"\"\"\n",
    "        Checks if the employee's name exists in the provided list of employees.\n",
    "\n",
    "        Args:\n",
    "            employee_list (list): A list of registered employee names.\n",
    "\n",
    "        Returns:\n",
    "            bool: True if the employee exists, False otherwise.\n",
    "        \"\"\"\n",
    "        # Make comparison case-insensitive for better user experience\n",
    "        return self.name.strip().lower() in [emp.lower() for emp in employee_list]\n",
    "\n",
    "    def take_attendance(self) -> str:\n",
    "        \"\"\"\n",
    "        Marks the employee as present for the day.\n",
    "\n",
    "        Returns:\n",
    "            str: A message confirming attendance.\n",
    "        \"\"\"\n",
    "        self.is_present = True\n",
    "        return f\"Attendance recorded for {self.name}.\"\n",
    "\n",
    "    def assign_task(self, tasks_list: list) -> str:\n",
    "        \"\"\"\n",
    "        Assigns a random task from the given list to the employee.\n",
    "\n",
    "        Args:\n",
    "            tasks_list (list): A list of available tasks.\n",
    "\n",
    "        Returns:\n",
    "            str: A message indicating the assigned task.\n",
    "        \"\"\"\n",
    "        if not tasks_list:\n",
    "            self.assigned_task = \"No tasks available.\"\n",
    "            return f\"No tasks to assign for {self.name}.\"\n",
    "        \n",
    "        self.assigned_task = random.choice(tasks_list)\n",
    "        return f\"Your task for today is: {self.assigned_task}.\"\n",
    "\n",
    "    def refuse_access(self) -> str:\n",
    "        \"\"\"\n",
    "        Generates a polite refusal message for non-employees.\n",
    "\n",
    "        Returns:\n",
    "            str: A refusal message.\n",
    "        \"\"\"\n",
    "        return f\"Sorry, {self.name} is not recognized as an employee. Access denied.\"\n",
    "\n",
    "\n",
    "class DeliveryEmployeeManagementApp(QWidget):\n",
    "    \"\"\"\n",
    "    The main GUI application for managing Mrs. Jane's employees.\n",
    "    \"\"\"\n",
    "    def __init__(self):\n",
    "        super().__init__()\n",
    "        self.setWindowTitle(\"Mrs. Jane's Delivery Management\")\n",
    "        self.setGeometry(100, 100, 500, 250) # x, y, width, height\n",
    "\n",
    "        # Hardcoded employee list and tasks as per requirements\n",
    "        self.employees = [\n",
    "            \"Mary Evans\", \"Eyo Ishan\", \"Durojaiye Dare\", \"Adams Ali\", \n",
    "            \"Andrew Ugwu\", \"Stella Mankinde\", \"Jane Akibo\", \"Ago James\", \n",
    "            \"Michell Taiwo\", \"Abraham Jones\", \"Nicole Anide\", \"Kosi Korso\", \n",
    "            \"Adele Martins\", \"Emmanuel Ojo\", \"Ajayi Fatima\"\n",
    "        ]\n",
    "        self.tasks = [\n",
    "            \"Loading\", \"Transporting\", \"Reviewing Orders\", \n",
    "            \"Customer Service\", \"Delivering Items\"\n",
    "        ]\n",
    "\n",
    "        self.init_ui()\n",
    "\n",
    "    def init_ui(self):\n",
    "        \"\"\"\n",
    "        Sets up the graphical user interface elements.\n",
    "        \"\"\"\n",
    "        # Main vertical layout\n",
    "        main_layout = QVBoxLayout()\n",
    "        main_layout.setSpacing(10) # Add some spacing between widgets\n",
    "\n",
    "        # Title Label\n",
    "        title_label = QLabel(\"Welcome to Mrs. Jane's Delivery Hub\")\n",
    "        title_label.setFont(self.font()) # Use default font for now\n",
    "        title_label.setStyleSheet(\"font-size: 20px; font-weight: bold; color: #333;\")\n",
    "        title_label.setAlignment(Qt.AlignCenter)\n",
    "        main_layout.addWidget(title_label)\n",
    "        main_layout.addSpacing(15)\n",
    "\n",
    "        # Employee Name Input\n",
    "        name_input_layout = QHBoxLayout()\n",
    "        name_label = QLabel(\"Employee Name:\")\n",
    "        name_label.setStyleSheet(\"font-size: 14px;\")\n",
    "        self.name_input = QLineEdit()\n",
    "        self.name_input.setPlaceholderText(\"Enter employee's full name\")\n",
    "        self.name_input.setStyleSheet(\"padding: 8px; border: 1px solid #ccc; border-radius: 5px;\")\n",
    "        name_input_layout.addWidget(name_label)\n",
    "        name_input_layout.addWidget(self.name_input)\n",
    "        main_layout.addLayout(name_input_layout)\n",
    "\n",
    "        # Process Button\n",
    "        process_button = QPushButton(\"Check & Assign Task\")\n",
    "        process_button.setStyleSheet(\n",
    "            \"background-color: #4CAF50; color: white; padding: 10px 15px; \"\n",
    "            \"border-radius: 5px; font-size: 16px; font-weight: bold;\"\n",
    "        )\n",
    "        process_button.clicked.connect(self.process_employee_action)\n",
    "        main_layout.addWidget(process_button)\n",
    "\n",
    "        # Result Display\n",
    "        self.result_label = QLabel(\"Enter a name and click 'Check & Assign Task'.\")\n",
    "        self.result_label.setStyleSheet(\n",
    "            \"font-size: 14px; color: #555; padding: 10px; border: 1px dashed #eee; \"\n",
    "            \"background-color: #f9f9f9; border-radius: 5px;\"\n",
    "        )\n",
    "        self.result_label.setAlignment(Qt.AlignCenter)\n",
    "        main_layout.addWidget(self.result_label)\n",
    "\n",
    "        # Set the main layout for the window\n",
    "        self.setLayout(main_layout)\n",
    "\n",
    "    def process_employee_action(self):\n",
    "        \"\"\"\n",
    "        Handles the logic when the 'Check & Assign Task' button is clicked.\n",
    "        Validates input, checks employee status, records attendance, and assigns tasks.\n",
    "        \"\"\"\n",
    "        employee_name_input = self.name_input.text().strip()\n",
    "\n",
    "        if not employee_name_input:\n",
    "            QMessageBox.warning(self, \"Input Error\", \"Please enter an employee name.\")\n",
    "            return\n",
    "\n",
    "        # Create an Employee object for the current input\n",
    "        employee = Employee(employee_name_input)\n",
    "\n",
    "        if employee.check_employee(self.employees):\n",
    "            # Employee exists, proceed with attendance and task assignment\n",
    "            attendance_msg = employee.take_attendance()\n",
    "            task_msg = employee.assign_task(self.tasks)\n",
    "            \n",
    "            full_message = f\"{attendance_msg}\\n{task_msg}\"\n",
    "            self.result_label.setText(full_message)\n",
    "            self.result_label.setStyleSheet(\"font-size: 14px; color: #007BFF; padding: 10px; border: 1px solid #007BFF; background-color: #e0f2f7; border-radius: 5px;\")\n",
    "            QMessageBox.information(self, \"Success!\", full_message)\n",
    "        else:\n",
    "            # Employee does not exist, refuse access\n",
    "            refusal_message = employee.refuse_access()\n",
    "            self.result_label.setText(refusal_message)\n",
    "            self.result_label.setStyleSheet(\"font-size: 14px; color: #DC3545; padding: 10px; border: 1px solid #DC3545; background-color: #f8d7da; border-radius: 5px;\")\n",
    "            QMessageBox.critical(self, \"Access Denied\", refusal_message)\n",
    "\n",
    "# Main part of the script to run the application\n",
    "if __name__ == '__main__':\n",
    "    app = QApplication(sys.argv)\n",
    "    ex = DeliveryEmployeeManagementApp()\n",
    "    ex.show()\n",
    "    sys.exit(app.exec_())\n"
   ]
  },
  {
   "cell_type": "markdown",
   "metadata": {},
   "source": [
    "You run a delivery service, and charge people based on their location and weight of their package. The following are some of the things you consider.\n",
    "\n",
    "You charge N2000, whenever you are delivering a package with weight of 10kg and above to PAU, and N1500 when it is less.\n",
    "However, you charge N5000 whenever you deliver to Epe, a package with weight of 10kg and above, and N4000 when it is less.\n",
    "\n",
    "Develop the python GUI program using your knowledge in OOP, that tells a user how much to pay, based on their location, and package weight. \n",
    "\n"
   ]
  },
  {
   "cell_type": "code",
   "execution_count": null,
   "metadata": {},
   "outputs": [],
   "source": [
    "import sys\n",
    "from PyQt5.QtWidgets import QApplication, QWidget, QLabel, QLineEdit, QPushButton, QVBoxLayout, QHBoxLayout, QComboBox, QMessageBox\n",
    "from PyQt5.QtGui import QDoubleValidator\n",
    "from PyQt5.QtCore import Qt\n",
    "\n",
    "class DeliveryService:\n",
    "    \"\"\"\n",
    "    A class to encapsulate the business logic for calculating delivery charges.\n",
    "    \"\"\"\n",
    "    def __init__(self):\n",
    "        # Define the delivery rates based on location and weight categories\n",
    "        self.rates = {\n",
    "            \"PAU\": {\"heavy\": 2000, \"light\": 1500},\n",
    "            \"Epe\": {\"heavy\": 5000, \"light\": 4000}\n",
    "        }\n",
    "        # Define the weight threshold for \"heavy\" packages\n",
    "        self.heavy_threshold_kg = 10.0\n",
    "\n",
    "    def calculate_charge(self, location: str, weight_kg: float) -> float:\n",
    "        \"\"\"\n",
    "        Calculates the delivery charge based on the specified location and package weight.\n",
    "\n",
    "        Args:\n",
    "            location (str): The delivery location (e.g., \"PAU\", \"Epe\").\n",
    "            weight_kg (float): The weight of the package in kilograms.\n",
    "\n",
    "        Returns:\n",
    "            float: The calculated delivery charge. Returns -1 if the location\n",
    "                   is invalid or if the weight is negative (though GUI handles negative\n",
    "                   weight input, it's a good safety check).\n",
    "        \"\"\"\n",
    "        # Check if the provided location is one of the recognized locations\n",
    "        if location not in self.rates:\n",
    "            # If location is not recognized, return an error indicator\n",
    "            return -1.0\n",
    "\n",
    "        # Determine if the package is \"heavy\" or \"light\" based on the threshold\n",
    "        if weight_kg >= self.heavy_threshold_kg:\n",
    "            # If heavy, return the heavy package rate for the specific location\n",
    "            return self.rates[location][\"heavy\"]\n",
    "        else:\n",
    "            # If light, return the light package rate for the specific location\n",
    "            return self.rates[location][\"light\"]\n",
    "\n",
    "class DeliveryCalculatorApp(QWidget):\n",
    "    \"\"\"\n",
    "    A PyQt5 GUI application that provides an interface for the DeliveryService.\n",
    "    Users can select a location and input a package weight to get a delivery charge.\n",
    "    \"\"\"\n",
    "    def __init__(self):\n",
    "        super().__init__()\n",
    "        # Create an instance of the DeliveryService to use its calculation logic\n",
    "        self.delivery_service = DeliveryService()\n",
    "        self.init_ui()\n",
    "\n",
    "    def init_ui(self):\n",
    "        \"\"\"\n",
    "        Initializes the user interface components and layout.\n",
    "        \"\"\"\n",
    "        self.setWindowTitle('Mrs. Jane\\'s Delivery Charge Calculator')\n",
    "        self.setGeometry(100, 100, 450, 250) # Set window position and size (x, y, width, height)\n",
    "\n",
    "        # Main vertical layout for arranging widgets\n",
    "        main_layout = QVBoxLayout()\n",
    "        main_layout.setSpacing(15) # Add some spacing between major sections\n",
    "\n",
    "        # Title Label\n",
    "        title_label = QLabel('Calculate Your Delivery Charge')\n",
    "        title_label.setStyleSheet(\"font-size: 22px; font-weight: bold; color: #2C3E50;\")\n",
    "        title_label.setAlignment(Qt.AlignCenter) # Center align the title\n",
    "        main_layout.addWidget(title_label)\n",
    "        main_layout.addSpacing(10) # Add extra space after the title\n",
    "\n",
    "        # Location Selection Section\n",
    "        location_layout = QHBoxLayout()\n",
    "        location_label = QLabel('Delivery Location:')\n",
    "        location_label.setStyleSheet(\"font-size: 16px; font-weight: 500;\")\n",
    "        \n",
    "        self.location_combo = QComboBox()\n",
    "        # Add available locations to the dropdown\n",
    "        self.location_combo.addItem(\"PAU\")\n",
    "        self.location_combo.addItem(\"Epe\")\n",
    "        self.location_combo.setStyleSheet(\"padding: 8px; border: 1px solid #BDC3C7; border-radius: 5px; font-size: 16px;\")\n",
    "        \n",
    "        location_layout.addWidget(location_label)\n",
    "        location_layout.addWidget(self.location_combo)\n",
    "        main_layout.addLayout(location_layout)\n",
    "\n",
    "        # Package Weight Input Section\n",
    "        weight_layout = QHBoxLayout()\n",
    "        weight_label = QLabel('Package Weight (kg):')\n",
    "        weight_label.setStyleSheet(\"font-size: 16px; font-weight: 500;\")\n",
    "        \n",
    "        self.weight_input = QLineEdit()\n",
    "        self.weight_input.setPlaceholderText(\"e.g., 5.5 or 12\")\n",
    "        # Set a validator to ensure only valid floating point numbers are entered\n",
    "        # Allows numbers from 0.0 to 9999.99 with up to 2 decimal places\n",
    "        self.weight_input.setValidator(QDoubleValidator(0.0, 9999.99, 2))\n",
    "        self.weight_input.setStyleSheet(\"padding: 8px; border: 1px solid #BDC3C7; border-radius: 5px; font-size: 16px;\")\n",
    "        \n",
    "        weight_layout.addWidget(weight_label)\n",
    "        weight_layout.addWidget(self.weight_input)\n",
    "        main_layout.addLayout(weight_layout)\n",
    "\n",
    "        # Calculate Button\n",
    "        calculate_button = QPushButton('Calculate Charge')\n",
    "        calculate_button.setStyleSheet(\n",
    "            \"background-color: #28A745; color: white; padding: 12px 25px; \"\n",
    "            \"border: none; border-radius: 8px; font-size: 18px; font-weight: bold;\"\n",
    "            \"hover { background-color: #218838; }\" # Simple hover effect for visual feedback\n",
    "        )\n",
    "        # Connect the button's clicked signal to the calculation method\n",
    "        calculate_button.clicked.connect(self.calculate_and_display_charge)\n",
    "        main_layout.addWidget(calculate_button)\n",
    "\n",
    "        # Result Display Label\n",
    "        self.result_label = QLabel('Your delivery charge will appear here.')\n",
    "        self.result_label.setStyleSheet(\n",
    "            \"font-size: 18px; font-weight: bold; color: #34495E; \"\n",
    "            \"padding: 10px; border: 2px solid #ECF0F1; border-radius: 5px; \"\n",
    "            \"background-color: #F8F9F9;\"\n",
    "        )\n",
    "        self.result_label.setAlignment(Qt.AlignCenter)\n",
    "        main_layout.addWidget(self.result_label)\n",
    "\n",
    "        # Set the main layout for the QWidget\n",
    "        self.setLayout(main_layout)\n",
    "\n",
    "    def calculate_and_display_charge(self):\n",
    "        \"\"\"\n",
    "        Retrieves inputs, calls the delivery service to calculate the charge,\n",
    "        and displays the result or an error message.\n",
    "        \"\"\"\n",
    "        location = self.location_combo.currentText() # Get selected location\n",
    "        weight_text = self.weight_input.text() # Get text from weight input field\n",
    "\n",
    "        # Input validation: Check if weight field is empty\n",
    "        if not weight_text:\n",
    "            QMessageBox.warning(self, \"Input Error\", \"Please enter the package weight.\")\n",
    "            self.result_label.setText('Please enter a weight.')\n",
    "            self.result_label.setStyleSheet(\"font-size: 18px; font-weight: bold; color: #E74C3C; padding: 10px; border: 2px solid #E74C3C; border-radius: 5px; background-color: #FADBD8;\")\n",
    "            return\n",
    "\n",
    "        try:\n",
    "            weight_kg = float(weight_text) # Convert weight text to a floating-point number\n",
    "            # Additional validation: Check for negative weight\n",
    "            if weight_kg < 0:\n",
    "                QMessageBox.warning(self, \"Input Error\", \"Package weight cannot be negative.\")\n",
    "                self.result_label.setText('Weight cannot be negative.')\n",
    "                self.result_label.setStyleSheet(\"font-size: 18px; font-weight: bold; color: #E74C3C; padding: 10px; border: 2px solid #E74C3C; border-radius: 5px; background-color: #FADBD8;\")\n",
    "                return\n",
    "\n",
    "        except ValueError:\n",
    "            # Handle cases where the input is not a valid number\n",
    "            QMessageBox.warning(self, \"Input Error\", \"Please enter a valid number for package weight.\")\n",
    "            self.result_label.setText('Invalid weight entered.')\n",
    "            self.result_label.setStyleSheet(\"font-size: 18px; font-weight: bold; color: #E74C3C; padding: 10px; border: 2px solid #E74C3C; border-radius: 5px; background-color: #FADBD8;\")\n",
    "            return\n",
    "\n",
    "        # Calculate the charge using the DeliveryService instance\n",
    "        charge = self.delivery_service.calculate_charge(location, weight_kg)\n",
    "\n",
    "        # Display the result or an error if calculation failed (though unlikely with current logic)\n",
    "        if charge == -1.0:\n",
    "            QMessageBox.critical(self, \"Calculation Error\", \"An unexpected error occurred during charge calculation. Please check inputs.\")\n",
    "            self.result_label.setText('Error calculating charge.')\n",
    "            self.result_label.setStyleSheet(\"font-size: 18px; font-weight: bold; color: #E74C3C; padding: 10px; border: 2px solid #E74C3C; border-radius: 5px; background-color: #FADBD8;\")\n",
    "        else:\n",
    "            self.result_label.setText(f'Your charge will be: N{charge:,.2f}') # Format to 2 decimal places with comma for thousands\n",
    "            self.result_label.setStyleSheet(\"font-size: 18px; font-weight: bold; color: #27AE60; padding: 10px; border: 2px solid #2ECC71; border-radius: 5px; background-color: #D4EFDF;\")\n",
    "\n",
    "# Standard boilerplate to run the PyQt5 application\n",
    "if __name__ == '__main__':\n",
    "    app = QApplication(sys.argv)\n",
    "    ex = DeliveryCalculatorApp()\n",
    "    ex.show()\n",
    "    sys.exit(app.exec_())\n"
   ]
  }
 ],
 "metadata": {
  "kernelspec": {
   "display_name": "Python [conda env:base] *",
   "language": "python",
   "name": "conda-base-py"
  },
  "language_info": {
   "codemirror_mode": {
    "name": "ipython",
    "version": 3
   },
   "file_extension": ".py",
   "mimetype": "text/x-python",
   "name": "python",
   "nbconvert_exporter": "python",
   "pygments_lexer": "ipython3",
   "version": "3.12.7"
  }
 },
 "nbformat": 4,
 "nbformat_minor": 4
}
